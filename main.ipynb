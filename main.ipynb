{
 "nbformat": 4,
 "nbformat_minor": 2,
 "metadata": {
  "language_info": {
   "name": "python",
   "codemirror_mode": {
    "name": "ipython",
    "version": 3
   },
   "version": "3.7.5-final"
  },
  "orig_nbformat": 2,
  "file_extension": ".py",
  "mimetype": "text/x-python",
  "name": "python",
  "npconvert_exporter": "python",
  "pygments_lexer": "ipython3",
  "version": 3,
  "kernelspec": {
   "name": "python37564bitf05be6d33fbc4df1aba037c4e3a41a1b",
   "display_name": "Python 3.7.5 64-bit"
  }
 },
 "cells": [
  {
   "cell_type": "code",
   "execution_count": null,
   "metadata": {},
   "outputs": [],
   "source": [
    "import matplotlib.pyplot as plt\n",
    "import numpy as np"
   ]
  },
  {
   "cell_type": "code",
   "execution_count": null,
   "metadata": {},
   "outputs": [],
   "source": [
    "SZ = 10  # sample size\n",
    "SS = .1  # step size"
   ]
  },
  {
   "cell_type": "code",
   "execution_count": null,
   "metadata": {},
   "outputs": [],
   "source": [
    "LS = np.arange(-SZ,SZ,SS)\n",
    "ax = np.array([])\n",
    "ay = np.array([])\n",
    "bx = np.array([])\n",
    "by = np.array([])\n",
    "\n",
    "for i in LS:\n",
    "    for j in LS:\n",
    "        if (i+j-1.0 < i*j) and (i*j < 1.0):\n",
    "            ax = np.append(ax, i)\n",
    "            ay = np.append(ay, j)\n",
    "        if (1.0 < i*j) and (i*j < i+j-1.0):\n",
    "            bx = np.append(bx, i)\n",
    "            by = np.append(by, j)"
   ]
  },
  {
   "cell_type": "code",
   "execution_count": null,
   "metadata": {},
   "outputs": [],
   "source": [
    "def aux(nm, xs, ys):\n",
    "    plt.title(nm)\n",
    "    plt.xlabel('Alpha12')\n",
    "    plt.ylabel('Alpha21')\n",
    "    assert(type(xs) == type(ys))\n",
    "    if type(xs) is list:\n",
    "        plt.plot(xs[0], ys[0], xs[1], ys[1])\n",
    "    else:\n",
    "        plt.plot(xs, ys)\n",
    "    plt.savefig(f'./fig/{nm}.png', transparent=False)\n",
    "    plt.show()\n",
    "    plt.clf()\n",
    "\n",
    "aux('A',ax,ay)\n",
    "aux('B',bx,by)\n",
    "aux('AB',[ax,bx],[ay,by])"
   ]
  },
  {
   "cell_type": "code",
   "execution_count": null,
   "metadata": {},
   "outputs": [],
   "source": []
  }
 ]
}